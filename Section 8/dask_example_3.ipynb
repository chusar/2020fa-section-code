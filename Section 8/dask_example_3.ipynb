{
 "cells": [
  {
   "cell_type": "markdown",
   "metadata": {},
   "source": [
    "## Additional Topics"
   ]
  },
  {
   "cell_type": "markdown",
   "metadata": {},
   "source": [
    "## A - Dask and ML Modelling"
   ]
  },
  {
   "cell_type": "markdown",
   "metadata": {},
   "source": [
    "Dask supports some ML algorithms like xgboost: https://gist.github.com/mrocklin/19c89d78e34437e061876a9872f4d2df, https://dask-ml.readthedocs.io/en/latest/xgboost.html"
   ]
  },
  {
   "cell_type": "markdown",
   "metadata": {},
   "source": [
    "![dask](dask.png)"
   ]
  },
  {
   "cell_type": "markdown",
   "metadata": {},
   "source": [
    "![daskml](ml.jpg)"
   ]
  },
  {
   "cell_type": "markdown",
   "metadata": {},
   "source": [
    "## B - Modin"
   ]
  },
  {
   "cell_type": "markdown",
   "metadata": {},
   "source": [
    "Modin is an initiative to speed up pandas: https://github.com/modin-project/modin"
   ]
  },
  {
   "cell_type": "code",
   "execution_count": 1,
   "metadata": {},
   "outputs": [
    {
     "name": "stderr",
     "output_type": "stream",
     "text": [
      "FutureWarning: pandas.core.index is deprecated and will be removed in a future version.  The public classes are available in the top-level namespace.\n"
     ]
    }
   ],
   "source": [
    "import modin.pandas as mpd\n",
    "import pandas as pd\n",
    "import time\n",
    "import numpy as np\n",
    "import os"
   ]
  },
  {
   "cell_type": "code",
   "execution_count": 2,
   "metadata": {},
   "outputs": [],
   "source": [
    "import dask.dataframe as dd\n",
    "\n",
    "cols = ['Year', 'Month', 'DayOfWeek', 'Distance',\n",
    "        'DepDelay', 'CRSDepTime', 'UniqueCarrier', 'Origin', 'Dest']\n",
    "\n",
    "# Create the dataframe\n",
    "df = dd.read_csv('s3://dask-data/airline-data/2000.csv', usecols=cols,\n",
    "                  storage_options={'anon': True})\n",
    "# df.repartition(npartitions=1).to_csv(\"example.csv\")  # create a local copy for demo purposes"
   ]
  },
  {
   "cell_type": "code",
   "execution_count": 3,
   "metadata": {},
   "outputs": [
    {
     "name": "stdout",
     "output_type": "stream",
     "text": [
      "2.2314696311950684\n"
     ]
    }
   ],
   "source": [
    "s_t = time.time()\n",
    "pdf = pd.read_csv(\"example.csv/0.part\")\n",
    "print(time.time() - s_t)"
   ]
  },
  {
   "cell_type": "code",
   "execution_count": 4,
   "metadata": {},
   "outputs": [
    {
     "name": "stdout",
     "output_type": "stream",
     "text": [
      "1.0948560237884521\n"
     ]
    }
   ],
   "source": [
    "s_t = time.time()\n",
    "df = mpd.read_csv(\"example.csv/0.part\")\n",
    "print(time.time() - s_t)"
   ]
  },
  {
   "cell_type": "code",
   "execution_count": 5,
   "metadata": {},
   "outputs": [
    {
     "name": "stderr",
     "output_type": "stream",
     "text": [
      "UserWarning: Multi-column groupby is a new feature. Please report any bugs/issues to bug_reports@modin.org.\n",
      "UserWarning: `DataFrame.groupby_on_multiple_columns` defaulting to pandas implementation.\n",
      "To request implementation, send an email to feature_requests@modin.org.\n"
     ]
    },
    {
     "name": "stdout",
     "output_type": "stream",
     "text": [
      "3.4175236225128174\n"
     ]
    },
    {
     "name": "stderr",
     "output_type": "stream",
     "text": [
      "UserWarning: Distributing <class 'pandas.core.series.Series'> object. This may take some time.\n"
     ]
    }
   ],
   "source": [
    "s_t = time.time()\n",
    "df.groupby(['Origin'])['DepDelay'].sum()  # pandas operations are supported - or default to pandas\n",
    "print(time.time() - s_t)"
   ]
  },
  {
   "cell_type": "markdown",
   "metadata": {},
   "source": [
    "## CudaDF\n",
    "\n",
    "See commands in the README.md"
   ]
  },
  {
   "cell_type": "markdown",
   "metadata": {},
   "source": [
    "![cudadf](CudaDF.png)"
   ]
  },
  {
   "cell_type": "markdown",
   "metadata": {},
   "source": [
    "https://rapidsai.github.io/projects/cudf/en/0.12.0/10min.html\n",
    "\n",
    "https://docs.rapids.ai/overview/latest.pdf"
   ]
  },
  {
   "cell_type": "code",
   "execution_count": null,
   "metadata": {},
   "outputs": [],
   "source": []
  }
 ],
 "metadata": {
  "kernelspec": {
   "display_name": "Python 3",
   "language": "python",
   "name": "python3"
  },
  "language_info": {
   "codemirror_mode": {
    "name": "ipython",
    "version": 3
   },
   "file_extension": ".py",
   "mimetype": "text/x-python",
   "name": "python",
   "nbconvert_exporter": "python",
   "pygments_lexer": "ipython3",
   "version": "3.7.3"
  }
 },
 "nbformat": 4,
 "nbformat_minor": 2
}
